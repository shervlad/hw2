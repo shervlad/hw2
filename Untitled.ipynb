{
 "cells": [
  {
   "cell_type": "code",
   "execution_count": 2,
   "metadata": {},
   "outputs": [
    {
     "data": {
      "text/plain": [
       "(2, 2)"
      ]
     },
     "execution_count": 2,
     "metadata": {},
     "output_type": "execute_result"
    }
   ],
   "source": [
    "import numpy as np\n",
    "\n",
    "a = np.concatenate([[[1,2],[3,4]]])\n",
    "a.shape"
   ]
  },
  {
   "cell_type": "code",
   "execution_count": 21,
   "metadata": {},
   "outputs": [
    {
     "data": {
      "text/plain": [
       "array([[[-1. , -1. ,  1. ],\n",
       "        [33. , 33. , 33. ]],\n",
       "\n",
       "       [[-0.5, -1. ,  1. ],\n",
       "        [33. , 33. , 33. ]],\n",
       "\n",
       "       [[ 0. , -1. ,  1. ],\n",
       "        [33. , 33. , 33. ]],\n",
       "\n",
       "       [[ 0.5, -1. ,  1. ],\n",
       "        [33. , 33. , 33. ]],\n",
       "\n",
       "       [[ 1. , -1. ,  1. ],\n",
       "        [33. , 33. , 33. ]],\n",
       "\n",
       "       [[-1. , -0.5,  1. ],\n",
       "        [33. , 33. , 33. ]],\n",
       "\n",
       "       [[-0.5, -0.5,  1. ],\n",
       "        [33. , 33. , 33. ]],\n",
       "\n",
       "       [[ 0. , -0.5,  1. ],\n",
       "        [33. , 33. , 33. ]],\n",
       "\n",
       "       [[ 0.5, -0.5,  1. ],\n",
       "        [33. , 33. , 33. ]],\n",
       "\n",
       "       [[ 1. , -0.5,  1. ],\n",
       "        [33. , 33. , 33. ]],\n",
       "\n",
       "       [[-1. ,  0. ,  1. ],\n",
       "        [33. , 33. , 33. ]],\n",
       "\n",
       "       [[-0.5,  0. ,  1. ],\n",
       "        [33. , 33. , 33. ]],\n",
       "\n",
       "       [[ 0. ,  0. ,  1. ],\n",
       "        [33. , 33. , 33. ]],\n",
       "\n",
       "       [[ 0.5,  0. ,  1. ],\n",
       "        [33. , 33. , 33. ]],\n",
       "\n",
       "       [[ 1. ,  0. ,  1. ],\n",
       "        [33. , 33. , 33. ]],\n",
       "\n",
       "       [[-1. ,  0.5,  1. ],\n",
       "        [33. , 33. , 33. ]],\n",
       "\n",
       "       [[-0.5,  0.5,  1. ],\n",
       "        [33. , 33. , 33. ]],\n",
       "\n",
       "       [[ 0. ,  0.5,  1. ],\n",
       "        [33. , 33. , 33. ]],\n",
       "\n",
       "       [[ 0.5,  0.5,  1. ],\n",
       "        [33. , 33. , 33. ]],\n",
       "\n",
       "       [[ 1. ,  0.5,  1. ],\n",
       "        [33. , 33. , 33. ]],\n",
       "\n",
       "       [[-1. ,  1. ,  1. ],\n",
       "        [33. , 33. , 33. ]],\n",
       "\n",
       "       [[-0.5,  1. ,  1. ],\n",
       "        [33. , 33. , 33. ]],\n",
       "\n",
       "       [[ 0. ,  1. ,  1. ],\n",
       "        [33. , 33. , 33. ]],\n",
       "\n",
       "       [[ 0.5,  1. ,  1. ],\n",
       "        [33. , 33. , 33. ]],\n",
       "\n",
       "       [[ 1. ,  1. ,  1. ],\n",
       "        [33. , 33. , 33. ]]])"
      ]
     },
     "execution_count": 21,
     "metadata": {},
     "output_type": "execute_result"
    }
   ],
   "source": [
    "bound = 1\n",
    "step = 0.5\n",
    "    \n",
    "X, Y  = np.meshgrid(np.arange(-bound, bound+step, step), np.arange(-bound, bound+step, step))\n",
    "Z = np.ones(X.shape)\n",
    "                \n",
    "shape = X.shape\n",
    "X = X.reshape(*X.shape,1)\n",
    "Y = Y.reshape(*Y.shape,1)\n",
    "Z = Z.reshape(*Z.shape,1)\n",
    "\n",
    "obj_pose = np.array([33,33,33])\n",
    "coords = np.concatenate((X,Y,Z), axis=2).reshape((-1,3))\n",
    "states = np.array([])\n",
    "for c in coords:\n",
    "    state = np.concatenate([c,obj_pose]).reshape(-1,3)\n",
    "    states = np.append(states,state).reshape(-1,*state.shape)\n",
    "states"
   ]
  },
  {
   "cell_type": "code",
   "execution_count": 27,
   "metadata": {},
   "outputs": [],
   "source": [
    "import csv\n",
    "with open('eggs.csv', 'a+', newline='') as csvfile:\n",
    "    spamwriter = csv.writer(csvfile, delimiter=' ',\n",
    "                            quotechar='|', quoting=csv.QUOTE_MINIMAL)\n",
    "    spamwriter.writerow(['Spam'] * 5 + ['Baked Beans'])\n",
    "    spamwriter.writerow(['Spam', 'Lovely Spam', 'Wonderful Spam'])"
   ]
  },
  {
   "cell_type": "code",
   "execution_count": 28,
   "metadata": {},
   "outputs": [
    {
     "data": {
      "text/plain": [
       "2.0"
      ]
     },
     "execution_count": 28,
     "metadata": {},
     "output_type": "execute_result"
    }
   ],
   "source": [
    "np.array([1,2,3]).mean()"
   ]
  },
  {
   "cell_type": "code",
   "execution_count": 12,
   "metadata": {},
   "outputs": [
    {
     "data": {
      "text/plain": [
       "tensor([-0.2420, -0.6977])"
      ]
     },
     "execution_count": 12,
     "metadata": {},
     "output_type": "execute_result"
    }
   ],
   "source": [
    "import torch\n",
    "import numpy as np\n",
    "from torch.distributions.normal import Normal\n",
    "dist = Normal(torch.as_tensor([0.0,0.0]),torch.as_tensor([1.0,1.0]))\n",
    "dist.sample()\n"
   ]
  },
  {
   "cell_type": "code",
   "execution_count": 15,
   "metadata": {},
   "outputs": [
    {
     "data": {
      "text/plain": [
       "array([0.81649658, 0.81649658])"
      ]
     },
     "execution_count": 15,
     "metadata": {},
     "output_type": "execute_result"
    }
   ],
   "source": [
    "np.std([[1,2],[2,3],[3,4]], axis=0)"
   ]
  },
  {
   "cell_type": "code",
   "execution_count": 17,
   "metadata": {},
   "outputs": [
    {
     "data": {
      "text/plain": [
       "True"
      ]
     },
     "execution_count": 17,
     "metadata": {},
     "output_type": "execute_result"
    }
   ],
   "source": [
    "np.all(np.array([1,2,3])>0)"
   ]
  },
  {
   "cell_type": "code",
   "execution_count": 19,
   "metadata": {},
   "outputs": [
    {
     "data": {
      "text/plain": [
       "array([[0.20769429, 0.55284031, 0.47058068, 0.98311916, 0.01820508],\n",
       "       [0.12408527, 0.65607596, 0.23940264, 0.22621184, 0.48648152],\n",
       "       [0.59607289, 0.05105104, 0.74363482, 0.38986422, 0.84219111],\n",
       "       [0.64032793, 0.01016786, 0.53729891, 0.41731582, 0.26992771],\n",
       "       [0.81598693, 0.12659086, 0.19219062, 0.68790537, 0.54760783],\n",
       "       [0.49290029, 0.67523138, 0.91307487, 0.19873605, 0.89908365],\n",
       "       [0.24570468, 0.77084937, 0.56677561, 0.6043094 , 0.37506054],\n",
       "       [0.87487402, 0.75199339, 0.85390245, 0.00113868, 0.57395505],\n",
       "       [0.21665692, 0.99508803, 0.82329125, 0.11915456, 0.33123168],\n",
       "       [0.92490873, 0.03498195, 0.57144369, 0.6636848 , 0.60770144],\n",
       "       [0.39757822, 0.97065404, 0.05908023, 0.94190641, 0.10594359],\n",
       "       [0.49526462, 0.49927455, 0.08961024, 0.71739084, 0.39131643],\n",
       "       [0.5695543 , 0.68778277, 0.8952461 , 0.37978527, 0.74996187],\n",
       "       [0.61203517, 0.69403137, 0.47911316, 0.37093111, 0.21376886],\n",
       "       [0.86180144, 0.37036456, 0.69046534, 0.66487097, 0.07160856],\n",
       "       [0.72467707, 0.09720996, 0.75269872, 0.92340556, 0.30597451],\n",
       "       [0.90241917, 0.43900405, 0.50043573, 0.32882383, 0.84567662],\n",
       "       [0.32476787, 0.99597913, 0.90283899, 0.82853729, 0.63651235],\n",
       "       [0.8507719 , 0.53135351, 0.0217114 , 0.81239576, 0.22049281],\n",
       "       [0.78440165, 0.47110934, 0.54123614, 0.57769539, 0.74839874]])"
      ]
     },
     "execution_count": 19,
     "metadata": {},
     "output_type": "execute_result"
    }
   ],
   "source": [
    "a = np.random.rand(20,5)\n",
    "a"
   ]
  },
  {
   "cell_type": "code",
   "execution_count": 21,
   "metadata": {},
   "outputs": [
    {
     "data": {
      "text/plain": [
       "array([[0.47058068, 0.98311916, 0.01820508],\n",
       "       [0.23940264, 0.22621184, 0.48648152],\n",
       "       [0.74363482, 0.38986422, 0.84219111],\n",
       "       [0.53729891, 0.41731582, 0.26992771],\n",
       "       [0.19219062, 0.68790537, 0.54760783]])"
      ]
     },
     "execution_count": 21,
     "metadata": {},
     "output_type": "execute_result"
    }
   ],
   "source": [
    "a[:5,2:]"
   ]
  },
  {
   "cell_type": "code",
   "execution_count": null,
   "metadata": {},
   "outputs": [],
   "source": []
  }
 ],
 "metadata": {
  "kernelspec": {
   "display_name": "spinup-kern",
   "language": "python",
   "name": "spinup-kern"
  },
  "language_info": {
   "codemirror_mode": {
    "name": "ipython",
    "version": 3
   },
   "file_extension": ".py",
   "mimetype": "text/x-python",
   "name": "python",
   "nbconvert_exporter": "python",
   "pygments_lexer": "ipython3",
   "version": "3.6.10"
  }
 },
 "nbformat": 4,
 "nbformat_minor": 4
}
